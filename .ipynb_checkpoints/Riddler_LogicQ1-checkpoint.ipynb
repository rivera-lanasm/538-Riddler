{
 "cells": [
  {
   "cell_type": "markdown",
   "metadata": {},
   "source": [
    "## Riddler #1; What if Robots Cut Your Pizza?\n",
    "\n",
    "This Riddler puzzle is about cutting a circle at random points and understanding how many slices are likely to result. \n",
    "\n",
    "\"At RoboPizza™, pies are cut by robots. When making each cut, a robot will **randomly (and independently) pick two points** on a pizza’s circumference, and then cut along the chord connecting them. If you order a pizza and specify that you want the robot to make exactly three cuts, **what is the expected number of pieces** your pie will have?\" (my highlighting)\n",
    "\n",
    "I am borrowing the theory behind the solution from Laurent Lessard's post about [this same problem](https://laurentlessard.com/bookproofs/what-if-robots-cut-your-pizza/)\n",
    "\n",
    "#### =============================\n"
   ]
  },
  {
   "cell_type": "markdown",
   "metadata": {},
   "source": [
    "## Reframing the Problem \n",
    "\n",
    "Larant reframes the question using Euler's Formula for Simple Planar Graphs. A graph G is planar if it can be drawn in the plane in such a way that no two edges meet each other except at a vertex to which they are both incident, i.e. such that no two edges cross in the plane. \n",
    "\n",
    "Euler's formula relates the number of vertices, edges and faces (including the \"infinite\" outside face) of a planar graph. If n, m, and f denome the number of vertices, edges, and faces respectively of a connected planar graph, then:\n",
    "\n",
    "$n - m + f = 2$\n",
    "\n",
    "Relating formula to the pizza example: \n",
    "- $E = 3n + 2p + 1$\n",
    "- $V = 2n + p$\n",
    "- $F = S  (slices) + 1 (inf. face)$\n",
    "- $S = n + p + 1$, where n is given by the problem. So we're only solving for p, the number of intersections given $n$ chords. \n",
    "\n",
    "\n",
    "**References:**\n",
    "[Graph Planarity](http://www.personal.kent.edu/~rmuhamma/GraphTheory/MyGraphTheory/planarity.html)\n",
    "\n",
    "#### ================================"
   ]
  },
  {
   "cell_type": "markdown",
   "metadata": {},
   "source": [
    "## Estimating the number of intersections\n",
    "\n",
    "Larant introduces a situation with n chords and a value, $X_{i,j}$, equal to 1 if chords $i$ and $j$ intersect, and 0 otherwise. $C$ is the set of all pairs $(i,j)$. \n",
    "\n",
    "- The values $X_{i,j}$ are not mutually independent. This can be shown by imagining a circle with three chords, $a, b, c$, two ($a, b$) of which are parallel. If $X_{a,c} = 1$, it must be the case that $X_{i,j}$. Despite this, linearity of expectations still applies. \n",
    "- By symmetry, each $E[X_{i,j}]$ is equal and equivalent to 1/3.\n",
    "\n",
    "\n",
    "**Think of cutting process in two stages:** \n",
    "- First, assign $2n$ points along the circumference of the circle.\n",
    "- Then, assign labels and draw chords between points. In determining the number of intersecting points, **the key randomizing event is the ordering of labels (and by extension the assignment of pairings), not their position along the circumference of the circle.**\n",
    "\n",
    "By enumerating the different possible ways of pairing points on a circle given an number of chords to be drawn, one can deduce the probability of acheiving between 0 and n choose 2 inctersections intersection. \n",
    "\n",
    "This counting exercise becomes increasingly difficult as the number of chords involved increases, so Laurent introduces some general solutions. \n",
    "\n",
    "\n",
    "##### ======================================="
   ]
  },
  {
   "cell_type": "markdown",
   "metadata": {},
   "source": [
    "### Aside: Bertrand's paradox: Assigning uniform/IID properties to simulated events\n",
    "\n",
    "In analyzing the specific case from the problem, that of estimating the expected number of slices (regions) resulting from three slices (chords) across the pizza (circle), Larant points out the following probabalistic insights:\n",
    "- The likelihood that two chords will begin or end at the exact same point along the circumference of the pizza is 0, allowing for arbitarily small pizza slices. \n",
    "- Any point of intersection will involve exactly two chords. The probability of the case involving an intersection of three or more chords is equivalent to the probability of one end of the 3rd (and subsequent) occuring at an arbitrary points along the circle's circumference, which is 0.\n",
    "\n",
    "A key insight from Laurent above is the the approach to introducing randomness. Assigning the order of labels among the points along the circle works because the way the chords are chosen **decouples how endpoints are chosen from how labels are assigned**. In the later section on simulation based methods, this is essential for safely estimating the probability distribution of the number of intersections. \n",
    "\n",
    "The question of properly specifying the process of randomly generating chords is related to **Bertrand's Paradox**.\n",
    "\n",
    "\n",
    "\n",
    "\n",
    "\n",
    "###### ==================================="
   ]
  },
  {
   "cell_type": "markdown",
   "metadata": {},
   "source": [
    "### Analytic Solution \n",
    "\n",
    "Laurent draws a general solution for the expected number of intersections in a circle given n chords from a 1975 paper, “The Distribution of Crossings of Chords Joining Pairs of 2n Points on a Circle”, by John Riordan, who specialized in combinatorial analytics. \n",
    "\n",
    "**Analytic Combinatorics** aims at predicting precisely the asymptotic properties of structured combinatorial configurations, through an approach that bases itself extensively on analytic methods. Generating functions are the central objects of the theory\n",
    "\n",
    "the key takeaway, as Laurent points out, is the following generating function, Tn(x). This polynomial with coefficients Tn,k describes \"the number of ways of choosing n pairs of points among 2n  general points **such that there are k intersections**\"\n",
    "\n",
    "References\n",
    "paper(https://www.ams.org/journals/mcom/1975-29-129/S0025-5718-1975-0366686-9/S0025-5718-1975-0366686-9.pdf)\n",
    "primer on combinatorial analytics ()\n",
    "\n",
    "###### ============================================\n"
   ]
  },
  {
   "cell_type": "markdown",
   "metadata": {},
   "source": [
    "\n",
    "1) Generating function \n",
    "\n",
    "Ring theory, rings library\n",
    "\n",
    "##### ========================================\n"
   ]
  },
  {
   "cell_type": "code",
   "execution_count": 10,
   "metadata": {},
   "outputs": [],
   "source": [
    "import pandas as pd\n",
    "import numpy as np\n",
    "import seaborn as sns\n",
    "\n",
    "order_four_dist = pd.read_csv(\"distribution_order_4.csv\", header=None).reset_index()\n",
    "order_four_dist.columns = ['intersections', 'likelihood']\n",
    "# incorporate into scala\n",
    "order_four_dist['regions'] = order_four_dist['intersections'] + 4 + 1"
   ]
  },
  {
   "cell_type": "code",
   "execution_count": 15,
   "metadata": {},
   "outputs": [
    {
     "data": {
      "text/plain": [
       "<matplotlib.axes._subplots.AxesSubplot at 0x7f90c45b8828>"
      ]
     },
     "execution_count": 15,
     "metadata": {},
     "output_type": "execute_result"
    },
    {
     "data": {
      "image/png": "[encoded data removed]",
      "text/plain": [
       "<Figure size 432x288 with 1 Axes>"
      ]
     },
     "metadata": {
      "needs_background": "light"
     },
     "output_type": "display_data"
    }
   ],
   "source": [
    "sns.barplot(x = \"regions\", y=\"likelihood\", data=order_four_dist, color=\"steelblue\")"
   ]
  },
  {
   "cell_type": "markdown",
   "metadata": {},
   "source": [
    "### Simulation based/Empirical Solutions \n",
    "\n",
    "1) random parings; test for point in region\n",
    "\n",
    "\n",
    "2) random pairings; test for intersection "
   ]
  },
  {
   "cell_type": "code",
   "execution_count": null,
   "metadata": {},
   "outputs": [],
   "source": []
  },
  {
   "cell_type": "code",
   "execution_count": null,
   "metadata": {},
   "outputs": [],
   "source": []
  },
  {
   "cell_type": "code",
   "execution_count": null,
   "metadata": {},
   "outputs": [],
   "source": []
  },
  {
   "cell_type": "code",
   "execution_count": null,
   "metadata": {},
   "outputs": [],
   "source": []
  }
 ],
 "metadata": {
  "kernelspec": {
   "display_name": "Python 3",
   "language": "python",
   "name": "python3"
  },
  "language_info": {
   "codemirror_mode": {
    "name": "ipython",
    "version": 3
   },
   "file_extension": ".py",
   "mimetype": "text/x-python",
   "name": "python",
   "nbconvert_exporter": "python",
   "pygments_lexer": "ipython3",
   "version": "3.6.10"
  }
 },
 "nbformat": 4,
 "nbformat_minor": 4
}
