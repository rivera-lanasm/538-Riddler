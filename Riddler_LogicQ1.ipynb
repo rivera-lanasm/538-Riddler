{
 "cells": [
  {
   "cell_type": "markdown",
   "metadata": {},
   "source": [
    "## Riddler #1; What if Robots Cut Your Pizza?\n",
    "\n",
    "This Riddler puzzle is about cutting a circle at random points and understanding how many slices will result. \n",
    "\n",
    "\"At RoboPizza™, pies are cut by robots. When making each cut, a robot will **randomly (and independently) pick two points** on a pizza’s circumference, and then cut along the chord connecting them. If you order a pizza and specify that you want the robot to make exactly three cuts, **what is the expected number of pieces** your pie will have?\"\n",
    "\n",
    "I am borrowing the theory behind the solution from Laurent Lessard's solution (https://laurentlessard.com/bookproofs/what-if-robots-cut-your-pizza/)\n",
    "\n",
    "\n"
   ]
  },
  {
   "cell_type": "markdown",
   "metadata": {},
   "source": [
    "#### Reframing the Problem\n",
    "\n",
    "In analyzing the specific case from the problem, that of estimating the expected number of slices (regions) resulting from three slices (chords) across the pizza (circle), Larant points out the following probabalistic insights:\n",
    "- The likelihood that two chords will begin or end at the exact same point along the circumference of the pizza is 0, allowing for arbitarily small pizza slices. \n",
    "- Any time chords intersect in circle, the intersection will involve exactly two chords. The probability of the case involving an intersection of three or more chords is equivalent to the probability of one end of the 3rd (and subsequent) occuring at an arbitrary points along the circle's circumference, which is 0. \n",
    "\n",
    "Larant reframes the question using Euler's Formula for Simple Planar Graphs. A graph G is planar if it can be drawn in the plane in such a way that no two edges meet each other excet at a vertex to which they are both incident. Euler's formula relates the number of vertices, edges and faces (including the infinite face) of a planar graph. If n, m, and f denome the number of vertices, edges, and faces respectively of a connected planar graph, then:\n",
    "\n",
    "$n - m + f = 2$\n",
    "\n",
    "relating formula to pizza example: \n",
    "- $E = 3n + 2p + 1$\n",
    "- $V = 2n + p$\n",
    "- $F = S  (slices) + 1 (inf. face)$\n",
    "- $S = n + p + 1$, where n is given by the problem. So we're only solving for p, the number of intersections given $n$ chords. \n",
    "\n",
    "\n",
    "\n",
    "http://www.personal.kent.edu/~rmuhamma/GraphTheory/MyGraphTheory/planarity.htm"
   ]
  },
  {
   "cell_type": "markdown",
   "metadata": {},
   "source": [
    "#### Estimating the number of intersections\n",
    "\n",
    "Larant introduces a situation with n chords and a value, $X_{i,j}$, equal to 1 if chords $i$ and $j$ intersect, and 0 otherwise. $C$ is the set of all pairs $(i,j)$. \n",
    "\n",
    "- The values $X_{i,j}$ are not mutually independent. This can be shown by imagining a circle with three chords, $a, b, c$, two ($a, b$) of which are parallel. If $X_{a,c} = 1$, it must be the case that $X_{i,j}$. Despite this, linearity of expectations still applies. \n",
    "- By symmetry, each $E[X_{i,j}]$ is equal\n",
    "\n",
    "\n",
    "Think of cutting process in two stages. \n",
    "- First, assign $2n$ points randomly.\n",
    "- Then, assign labels and draw chords between points. In determining the number of intersecting points, the key action is the order of labels (and by extension the assignment of pairings), not their position.\n",
    "- the approach above works because the way the chords are chosen allows us to decouple how endpoints are chosen from how labels are assigned. Bertrand's paradox\n",
    "\n",
    "By enumerating the different possible ways of pairing points on a circle given an number of chords to be drawn, one can deduce the probability of acheiving between 0 and n choose 2 inctersections intersection. This becomes increasingly difficult as the number of chords involved increases, so Laurent introduces some general solutions. \n",
    "\n",
    "\n"
   ]
  },
  {
   "cell_type": "markdown",
   "metadata": {},
   "source": [
    "#### General Solution \n",
    "\n",
    "Laurent draws a general solution for the expected number of intersections in a circle given n chords from a 1975 paper, “The Distribution of Crossings of Chords Joining Pairs of 2n Points on a Circle”, by John Riordan, who specialized in combinatorial analytics. \n",
    "\n",
    "Analytic Combinatorics aims at predicting precisely the asymptotic properties of structured combinatorial configurations, through an approach that bases itself extensively on analytic methods. Generating functions are the central objects of the theory\n",
    "\n",
    "paper(https://www.ams.org/journals/mcom/1975-29-129/S0025-5718-1975-0366686-9/S0025-5718-1975-0366686-9.pdf)\n",
    "primer on combinatorial analytics ()\n",
    "\n",
    "the key takeaway, as Laurent points out, is the following generating function, Tn(x). This polynomial with coefficients Tn,k describes \"the number of ways of choosing n pairs of points among 2n  general points **such that there are k intersections**\"\n",
    "\n",
    "$Tn$\n",
    "\n",
    "\n",
    "\n",
    "\n"
   ]
  },
  {
   "cell_type": "markdown",
   "metadata": {},
   "source": [
    "#### Computational Solutions \n",
    "\n",
    "1) catalan number generating function \n",
    "2) random parings; test for point in region\n",
    "3) random pairings; test for intersection \n"
   ]
  },
  {
   "cell_type": "code",
   "execution_count": null,
   "metadata": {},
   "outputs": [],
   "source": []
  },
  {
   "cell_type": "code",
   "execution_count": null,
   "metadata": {},
   "outputs": [],
   "source": []
  },
  {
   "cell_type": "code",
   "execution_count": null,
   "metadata": {},
   "outputs": [],
   "source": []
  }
 ],
 "metadata": {
  "kernelspec": {
   "display_name": "Python 3",
   "language": "python",
   "name": "python3"
  },
  "language_info": {
   "codemirror_mode": {
    "name": "ipython",
    "version": 3
   },
   "file_extension": ".py",
   "mimetype": "text/x-python",
   "name": "python",
   "nbconvert_exporter": "python",
   "pygments_lexer": "ipython3",
   "version": "3.6.10"
  }
 },
 "nbformat": 4,
 "nbformat_minor": 4
}
